{
 "cells": [
  {
   "cell_type": "code",
   "execution_count": 39,
   "metadata": {},
   "outputs": [],
   "source": [
    "#Initialize object: Orchestrator\n",
    "class PID:\n",
    "    set_x = 320\n",
    "    set_y = 240\n",
    "    time = 0\n",
    "    error_integral = 0\n",
    "    error_derivative = 0\n",
    "#function to output x"
   ]
  },
  {
   "cell_type": "code",
   "execution_count": 41,
   "metadata": {},
   "outputs": [],
   "source": [
    "def get_pid_x(input_x):\n",
    "    #Get error variables\n",
    "    error = input_x - PID.set_x \n",
    "    PID.error_integral += error * PID.time\n",
    "    PID.error_derivative = (error - PID.error_derivative) / .033\n",
    "    #define PID coefficients \n",
    "    kp = 1\n",
    "    ki = 1\n",
    "    kd = 1\n",
    "    #calculate the PID output\n",
    "    output_x = kp * error + ki * PID.error_integral + kd * PID.error_derivative\n",
    "    PID.time += .033\n",
    "    return output_x"
   ]
  },
  {
   "cell_type": "code",
   "execution_count": null,
   "metadata": {},
   "outputs": [],
   "source": []
  }
 ],
 "metadata": {
  "kernelspec": {
   "display_name": "Python 3",
   "language": "python",
   "name": "python3"
  },
  "language_info": {
   "codemirror_mode": {
    "name": "ipython",
    "version": 3
   },
   "file_extension": ".py",
   "mimetype": "text/x-python",
   "name": "python",
   "nbconvert_exporter": "python",
   "pygments_lexer": "ipython3",
   "version": "3.6.6"
  }
 },
 "nbformat": 4,
 "nbformat_minor": 2
}
